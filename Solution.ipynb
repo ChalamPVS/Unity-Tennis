{
 "cells": [
  {
   "cell_type": "markdown",
   "metadata": {},
   "source": [
    "## Import Necessary Modules"
   ]
  },
  {
   "cell_type": "code",
   "execution_count": 1,
   "metadata": {},
   "outputs": [],
   "source": [
    "from unityagents import UnityEnvironment\n",
    "import numpy as np\n",
    "import random\n",
    "import torch\n",
    "from collections import deque\n",
    "import matplotlib.pyplot as plt\n",
    "from maddpg_agent import Agent\n",
    "from tqdm import tqdm_notebook as tqdm\n",
    "%matplotlib inline"
   ]
  },
  {
   "cell_type": "markdown",
   "metadata": {},
   "source": [
    "## Unity Tennis Environment"
   ]
  },
  {
   "cell_type": "markdown",
   "metadata": {},
   "source": [
    "- Choose your environment appropriately from the `environment` folder"
   ]
  },
  {
   "cell_type": "code",
   "execution_count": 2,
   "metadata": {},
   "outputs": [
    {
     "name": "stderr",
     "output_type": "stream",
     "text": [
      "INFO:unityagents:\n",
      "'Academy' started successfully!\n",
      "Unity Academy name: Academy\n",
      "        Number of Brains: 1\n",
      "        Number of External Brains : 1\n",
      "        Lesson number : 0\n",
      "        Reset Parameters :\n",
      "\t\t\n",
      "Unity brain name: TennisBrain\n",
      "        Number of Visual Observations (per agent): 0\n",
      "        Vector Observation space type: continuous\n",
      "        Vector Observation space size (per agent): 8\n",
      "        Number of stacked Vector Observation: 3\n",
      "        Vector Action space type: continuous\n",
      "        Vector Action space size (per agent): 2\n",
      "        Vector Action descriptions: , \n"
     ]
    }
   ],
   "source": [
    "env = UnityEnvironment(file_name=\"Tennis.app\", worker_id=8)"
   ]
  },
  {
   "cell_type": "code",
   "execution_count": 3,
   "metadata": {},
   "outputs": [],
   "source": [
    "# get the default brain\n",
    "brain_name = env.brain_names[0]\n",
    "brain = env.brains[brain_name]"
   ]
  },
  {
   "cell_type": "markdown",
   "metadata": {},
   "source": [
    "## Examine the State and Action Spaces"
   ]
  },
  {
   "cell_type": "code",
   "execution_count": 5,
   "metadata": {},
   "outputs": [
    {
     "name": "stdout",
     "output_type": "stream",
     "text": [
      "Number of agents: 2\n",
      "Size of each action: 2\n",
      "There are 2 agents. Each observes a state with length: 24\n",
      "The state for the first agent looks like: [ 0.          0.          0.          0.          0.          0.\n",
      "  0.          0.          0.          0.          0.          0.\n",
      "  0.          0.          0.          0.         -7.38993645 -1.5\n",
      " -0.          0.          6.83172083  5.99607611 -0.          0.        ]\n"
     ]
    }
   ],
   "source": [
    "# reset the environment\n",
    "env_info = env.reset(train_mode=True)[brain_name]\n",
    "\n",
    "# number of agents\n",
    "num_agents = len(env_info.agents)\n",
    "print('Number of agents:', num_agents)\n",
    "\n",
    "# size of each action\n",
    "action_size = brain.vector_action_space_size\n",
    "print('Size of each action:', action_size)\n",
    "\n",
    "# examine the state space \n",
    "states = env_info.vector_observations\n",
    "state_size = states.shape[1]\n",
    "print('There are {} agents. Each observes a state with length: {}'.format(states.shape[0], state_size))\n",
    "print('The state for the first agent looks like:', states[0])"
   ]
  },
  {
   "cell_type": "markdown",
   "metadata": {},
   "source": [
    "## Random Agent"
   ]
  },
  {
   "cell_type": "code",
   "execution_count": 9,
   "metadata": {},
   "outputs": [
    {
     "name": "stdout",
     "output_type": "stream",
     "text": [
      "Episode: 1\tMax reward: 0.000\n",
      "Episode: 2\tMax reward: 0.000\n",
      "Episode: 3\tMax reward: 0.000\n",
      "Episode: 4\tMax reward: 0.100\n",
      "Episode: 5\tMax reward: 0.000\n"
     ]
    }
   ],
   "source": [
    "for i in range(5):                                         # play game for 5 episodes\n",
    "    env_info = env.reset(train_mode=False)[brain_name]     # reset the environment    \n",
    "    states = env_info.vector_observations                  # get the current state (for each agent)\n",
    "    scores = np.zeros(num_agents)                          # initialize the score (for each agent)\n",
    "    while True:\n",
    "        actions = np.random.randn(num_agents, action_size) # select an action (for each agent)\n",
    "        actions = np.clip(actions, -1, 1)                  # all actions between -1 and 1\n",
    "        env_info = env.step(actions)[brain_name]           # send all actions to tne environment\n",
    "        next_states = env_info.vector_observations         # get next state (for each agent)\n",
    "        rewards = env_info.rewards                         # get reward (for each agent)\n",
    "        dones = env_info.local_done                        # see if episode finished\n",
    "        scores += env_info.rewards                         # update the score (for each agent)\n",
    "        states = next_states                               # roll over states to next time step\n",
    "        if np.any(dones):                                  # exit loop if episode finished\n",
    "            break\n",
    "    print('Episode: {:d}\\tMax reward: {:2.3f}'.format(i+1, np.max(scores)))"
   ]
  },
  {
   "cell_type": "markdown",
   "metadata": {},
   "source": [
    "## MADDPG"
   ]
  },
  {
   "cell_type": "markdown",
   "metadata": {},
   "source": [
    "- Utility Function"
   ]
  },
  {
   "cell_type": "code",
   "execution_count": 23,
   "metadata": {},
   "outputs": [],
   "source": [
    "def save_model(agent, en):\n",
    "    torch.save(agent.actor_local.state_dict(), 'checkpointv3_extended_actor_agent'+str(en)+'.pth')\n",
    "    torch.save(agent.critic_local.state_dict(), 'checkpointv3_extended_critic_agent'+str(en)+'.pth')"
   ]
  },
  {
   "cell_type": "markdown",
   "metadata": {},
   "source": [
    "### Initialize the agents"
   ]
  },
  {
   "cell_type": "code",
   "execution_count": 9,
   "metadata": {},
   "outputs": [],
   "source": [
    "agent_0 = Agent(state_size, action_size, 1, random_seed=0)\n",
    "agent_1 = Agent(state_size, action_size, 1, random_seed=0)"
   ]
  },
  {
   "cell_type": "code",
   "execution_count": 14,
   "metadata": {},
   "outputs": [],
   "source": [
    "def maddpg(n_episodes=10000, print_every=50, save_every=100):\n",
    "    \n",
    "    scores_deque = deque(maxlen=100)\n",
    "    fullscores = []\n",
    "    \n",
    "    for i_episode in range(1, n_episodes+1):\n",
    "        env_info = env.reset(train_mode=True)[brain_name]\n",
    "        states = env_info.vector_observations\n",
    "        states = np.reshape(states, (1, 48))\n",
    "        agent_0.reset()\n",
    "        agent_1.reset()\n",
    "        scores = np.zeros(num_agents)\n",
    "        while True:\n",
    "            action0 = agent_0.act(states, add_noise=True)\n",
    "            action1 = agent_1.act(states, add_noise=True)\n",
    "            actions = np.concatenate((action0, action1), axis=0)\n",
    "            actions = np.reshape(actions, (1, 4))\n",
    "            env_info = env.step(actions)[brain_name]\n",
    "            next_states = env_info.vector_observations\n",
    "            next_states = np.reshape(next_states, (1, 48))\n",
    "            rewards = env_info.rewards\n",
    "            dones = env_info.local_done\n",
    "            \n",
    "            agent_0.step(states, actions, rewards[0], next_states, dones[0], 0)\n",
    "            agent_1.step(states, actions, rewards[1], next_states, dones[1], 1)\n",
    "            scores += rewards\n",
    "            states = next_states\n",
    "            \n",
    "            if np.any(dones):\n",
    "                break\n",
    "                \n",
    "        scores_deque.append(np.max(scores))\n",
    "        fullscores.append(np.max(scores))\n",
    "        average_score = np.mean(scores_deque)\n",
    "        \n",
    "        print('\\rEpisode: {}\\tMax Reward: {:2.3f}\\tAverage (Max) Reward: {:2.3f}'.format(i_episode, np.max(scores),\n",
    "                                                                                        average_score), end=\"\")\n",
    "        if i_episode % print_every == 0:\n",
    "            print()\n",
    "        \n",
    "        if i_episode % save_every == 0:\n",
    "            save_model(agent_0, 0)\n",
    "            save_model(agent_1, 1)\n",
    "            \n",
    "        if average_score >= 0.5:\n",
    "            print('Environment solved in {:d} episodes!\\tAverage Reward: {:2.3f}'.format(i_episode-100, average_score))\n",
    "            save_model(agent_0, 0)\n",
    "            save_model(agent_1, 1)\n",
    "            break\n",
    "    \n",
    "    return scores_deque, fullscores\n",
    "        "
   ]
  },
  {
   "cell_type": "code",
   "execution_count": 15,
   "metadata": {},
   "outputs": [
    {
     "name": "stdout",
     "output_type": "stream",
     "text": [
      "Episode: 50\tMax Reward: 0.090\tAverage (Max) Reward: 0.042\n",
      "Episode: 100\tMax Reward: 0.000\tAverage (Max) Reward: 0.043\n",
      "Episode: 150\tMax Reward: 0.000\tAverage (Max) Reward: 0.039\n",
      "Episode: 200\tMax Reward: 0.100\tAverage (Max) Reward: 0.046\n",
      "Episode: 250\tMax Reward: 0.000\tAverage (Max) Reward: 0.055\n",
      "Episode: 300\tMax Reward: 0.000\tAverage (Max) Reward: 0.058\n",
      "Episode: 350\tMax Reward: 0.100\tAverage (Max) Reward: 0.080\n",
      "Episode: 400\tMax Reward: 0.100\tAverage (Max) Reward: 0.106\n",
      "Episode: 450\tMax Reward: 0.200\tAverage (Max) Reward: 0.154\n",
      "Episode: 500\tMax Reward: 0.200\tAverage (Max) Reward: 0.198\n",
      "Episode: 550\tMax Reward: 0.300\tAverage (Max) Reward: 0.245\n",
      "Episode: 600\tMax Reward: 0.100\tAverage (Max) Reward: 0.353\n",
      "Episode: 650\tMax Reward: 1.200\tAverage (Max) Reward: 0.502\n",
      "Environment solved in 550 episodes!\tAverage Reward: 0.502\n"
     ]
    }
   ],
   "source": [
    "scores_deque, fullscores = maddpg()"
   ]
  },
  {
   "cell_type": "code",
   "execution_count": 19,
   "metadata": {},
   "outputs": [],
   "source": [
    "average_scores = []\n",
    "temp_deque = deque(maxlen=100)\n",
    "for s in fullscores:\n",
    "    temp_deque.append(s)\n",
    "    average_scores.append(np.mean(temp_deque))"
   ]
  },
  {
   "cell_type": "code",
   "execution_count": 22,
   "metadata": {},
   "outputs": [
    {
     "data": {
      "image/png": "[encoded data removed]",
      "text/plain": [
       "<matplotlib.figure.Figure at 0x7f994f45c5f8>"
      ]
     },
     "metadata": {
      "needs_background": "light"
     },
     "output_type": "display_data"
    }
   ],
   "source": [
    "fig, ax = plt.subplots(figsize=(12, 6))\n",
    "ax.plot(range(1, len(fullscores)+1), fullscores)\n",
    "ax.plot(range(1, len(average_scores)+1), average_scores, c='r', label='mean over 100 episodes')\n",
    "ax.set_xlabel('Episode #', fontsize=14)\n",
    "ax.set_ylabel('Score', fontsize=14)\n",
    "ax.set_title('Unity Tennis Envriornment with MADDPG', fontsize=16)\n",
    "plt.legend()\n",
    "plt.show()"
   ]
  },
  {
   "cell_type": "code",
   "execution_count": 28,
   "metadata": {},
   "outputs": [],
   "source": [
    "env.close()"
   ]
  },
  {
   "cell_type": "markdown",
   "metadata": {},
   "source": [
    "## Evaluation"
   ]
  },
  {
   "cell_type": "code",
   "execution_count": 1,
   "metadata": {},
   "outputs": [],
   "source": [
    "from unityagents import UnityEnvironment\n",
    "import numpy as np\n",
    "import random\n",
    "import torch\n",
    "from collections import deque\n",
    "import matplotlib.pyplot as plt\n",
    "from maddpg_agent import Agent\n",
    "from tqdm import tqdm_notebook as tqdm\n",
    "%matplotlib inline"
   ]
  },
  {
   "cell_type": "code",
   "execution_count": 2,
   "metadata": {},
   "outputs": [
    {
     "name": "stderr",
     "output_type": "stream",
     "text": [
      "INFO:unityagents:\n",
      "'Academy' started successfully!\n",
      "Unity Academy name: Academy\n",
      "        Number of Brains: 1\n",
      "        Number of External Brains : 1\n",
      "        Lesson number : 0\n",
      "        Reset Parameters :\n",
      "\t\t\n",
      "Unity brain name: TennisBrain\n",
      "        Number of Visual Observations (per agent): 0\n",
      "        Vector Observation space type: continuous\n",
      "        Vector Observation space size (per agent): 8\n",
      "        Number of stacked Vector Observation: 3\n",
      "        Vector Action space type: continuous\n",
      "        Vector Action space size (per agent): 2\n",
      "        Vector Action descriptions: , \n"
     ]
    }
   ],
   "source": [
    "env = UnityEnvironment(file_name=\"Tennis.app\", worker_id=8)"
   ]
  },
  {
   "cell_type": "code",
   "execution_count": 3,
   "metadata": {},
   "outputs": [],
   "source": [
    "# get the default brain\n",
    "brain_name = env.brain_names[0]\n",
    "brain = env.brains[brain_name]"
   ]
  },
  {
   "cell_type": "code",
   "execution_count": 4,
   "metadata": {},
   "outputs": [],
   "source": [
    "# reset the environment\n",
    "env_info = env.reset(train_mode=True)[brain_name]\n",
    "num_agents = len(env_info.agents)\n",
    "action_size = brain.vector_action_space_size\n",
    "states = env_info.vector_observations\n",
    "state_size = states.shape[1]"
   ]
  },
  {
   "cell_type": "code",
   "execution_count": 5,
   "metadata": {},
   "outputs": [],
   "source": [
    "agent_0 = Agent(state_size, action_size, 1, random_seed=0, actor_filename='checkpoint_actor_agent0.pth', \n",
    "                critic_filename='checkpoint_critic_agent0.pth')\n",
    "agent_1 = Agent(state_size, action_size, 1, random_seed=0, actor_filename='checkpoint_actor_agent1.pth',\n",
    "               critic_filename='checkpoint_critic_agent1.pth')"
   ]
  },
  {
   "cell_type": "markdown",
   "metadata": {},
   "source": [
    "## Iteration 1"
   ]
  },
  {
   "cell_type": "code",
   "execution_count": 6,
   "metadata": {},
   "outputs": [
    {
     "name": "stdout",
     "output_type": "stream",
     "text": [
      "Max reward: 2.600\n"
     ]
    }
   ],
   "source": [
    "env_info = env.reset(train_mode=False)[brain_name]\n",
    "states = env_info.vector_observations\n",
    "states = np.reshape(states, (1, 48))\n",
    "agent_0.reset()\n",
    "agent_1.reset()\n",
    "scores = np.zeros(num_agents)\n",
    "while True:\n",
    "    action0 = agent_0.act(states, add_noise=False)\n",
    "    action1 = agent_1.act(states, add_noise=False)\n",
    "    actions = np.concatenate((action0, action1), axis=0)\n",
    "    actions = np.reshape(actions, (1, 4))\n",
    "    env_info = env.step(actions)[brain_name]\n",
    "    next_states = env_info.vector_observations\n",
    "    next_states = np.reshape(next_states, (1, 48))\n",
    "    rewards = env_info.rewards\n",
    "    dones = env_info.local_done\n",
    "    scores += rewards\n",
    "    states = next_states\n",
    "    \n",
    "    if np.any(dones):\n",
    "        break\n",
    "print('Max reward: {:2.3f}'.format(np.max(scores)))"
   ]
  },
  {
   "cell_type": "markdown",
   "metadata": {},
   "source": [
    "## Iteration 2"
   ]
  },
  {
   "cell_type": "code",
   "execution_count": 10,
   "metadata": {},
   "outputs": [
    {
     "name": "stdout",
     "output_type": "stream",
     "text": [
      "Max reward: 0.800\n"
     ]
    }
   ],
   "source": [
    "env_info = env.reset(train_mode=False)[brain_name]\n",
    "states = env_info.vector_observations\n",
    "states = np.reshape(states, (1, 48))\n",
    "agent_0.reset()\n",
    "agent_1.reset()\n",
    "scores = np.zeros(num_agents)\n",
    "while True:\n",
    "    action0 = agent_0.act(states, add_noise=False)\n",
    "    action1 = agent_1.act(states, add_noise=False)\n",
    "    actions = np.concatenate((action0, action1), axis=0)\n",
    "    actions = np.reshape(actions, (1, 4))\n",
    "    env_info = env.step(actions)[brain_name]\n",
    "    next_states = env_info.vector_observations\n",
    "    next_states = np.reshape(next_states, (1, 48))\n",
    "    rewards = env_info.rewards\n",
    "    dones = env_info.local_done\n",
    "    scores += rewards\n",
    "    states = next_states\n",
    "    \n",
    "    if np.any(dones):\n",
    "        break\n",
    "print('Max reward: {:2.3f}'.format(np.max(scores)))"
   ]
  },
  {
   "cell_type": "markdown",
   "metadata": {},
   "source": [
    "## Iteration 3"
   ]
  },
  {
   "cell_type": "code",
   "execution_count": 8,
   "metadata": {},
   "outputs": [
    {
     "name": "stdout",
     "output_type": "stream",
     "text": [
      "Max reward: 1.400\n"
     ]
    }
   ],
   "source": [
    "env_info = env.reset(train_mode=False)[brain_name]\n",
    "states = env_info.vector_observations\n",
    "states = np.reshape(states, (1, 48))\n",
    "agent_0.reset()\n",
    "agent_1.reset()\n",
    "scores = np.zeros(num_agents)\n",
    "while True:\n",
    "    action0 = agent_0.act(states, add_noise=False)\n",
    "    action1 = agent_1.act(states, add_noise=False)\n",
    "    actions = np.concatenate((action0, action1), axis=0)\n",
    "    actions = np.reshape(actions, (1, 4))\n",
    "    env_info = env.step(actions)[brain_name]\n",
    "    next_states = env_info.vector_observations\n",
    "    next_states = np.reshape(next_states, (1, 48))\n",
    "    rewards = env_info.rewards\n",
    "    dones = env_info.local_done\n",
    "    scores += rewards\n",
    "    states = next_states\n",
    "    \n",
    "    if np.any(dones):\n",
    "        break\n",
    "print('Max reward: {:2.3f}'.format(np.max(scores)))"
   ]
  },
  {
   "cell_type": "markdown",
   "metadata": {},
   "source": [
    "## Iteration 4"
   ]
  },
  {
   "cell_type": "code",
   "execution_count": 7,
   "metadata": {},
   "outputs": [
    {
     "name": "stdout",
     "output_type": "stream",
     "text": [
      "Max reward: 0.600\n"
     ]
    }
   ],
   "source": [
    "env_info = env.reset(train_mode=False)[brain_name]\n",
    "states = env_info.vector_observations\n",
    "states = np.reshape(states, (1, 48))\n",
    "agent_0.reset()\n",
    "agent_1.reset()\n",
    "scores = np.zeros(num_agents)\n",
    "while True:\n",
    "    action0 = agent_0.act(states, add_noise=False)\n",
    "    action1 = agent_1.act(states, add_noise=False)\n",
    "    actions = np.concatenate((action0, action1), axis=0)\n",
    "    actions = np.reshape(actions, (1, 4))\n",
    "    env_info = env.step(actions)[brain_name]\n",
    "    next_states = env_info.vector_observations\n",
    "    next_states = np.reshape(next_states, (1, 48))\n",
    "    rewards = env_info.rewards\n",
    "    dones = env_info.local_done\n",
    "    scores += rewards\n",
    "    states = next_states\n",
    "    \n",
    "    if np.any(dones):\n",
    "        break\n",
    "print('Max reward: {:2.3f}'.format(np.max(scores)))"
   ]
  },
  {
   "cell_type": "markdown",
   "metadata": {},
   "source": [
    "## Iteration 5"
   ]
  },
  {
   "cell_type": "code",
   "execution_count": 11,
   "metadata": {},
   "outputs": [
    {
     "name": "stdout",
     "output_type": "stream",
     "text": [
      "Max reward: 2.600\n"
     ]
    }
   ],
   "source": [
    "env_info = env.reset(train_mode=False)[brain_name]\n",
    "states = env_info.vector_observations\n",
    "states = np.reshape(states, (1, 48))\n",
    "agent_0.reset()\n",
    "agent_1.reset()\n",
    "scores = np.zeros(num_agents)\n",
    "while True:\n",
    "    action0 = agent_0.act(states, add_noise=False)\n",
    "    action1 = agent_1.act(states, add_noise=False)\n",
    "    actions = np.concatenate((action0, action1), axis=0)\n",
    "    actions = np.reshape(actions, (1, 4))\n",
    "    env_info = env.step(actions)[brain_name]\n",
    "    next_states = env_info.vector_observations\n",
    "    next_states = np.reshape(next_states, (1, 48))\n",
    "    rewards = env_info.rewards\n",
    "    dones = env_info.local_done\n",
    "    scores += rewards\n",
    "    states = next_states\n",
    "    \n",
    "    if np.any(dones):\n",
    "        break\n",
    "print('Max reward: {:2.3f}'.format(np.max(scores)))"
   ]
  },
  {
   "cell_type": "code",
   "execution_count": 12,
   "metadata": {},
   "outputs": [],
   "source": [
    "env.close()"
   ]
  }
 ],
 "metadata": {
  "kernelspec": {
   "display_name": "Python 3",
   "language": "python",
   "name": "python3"
  },
  "language_info": {
   "codemirror_mode": {
    "name": "ipython",
    "version": 3
   },
   "file_extension": ".py",
   "mimetype": "text/x-python",
   "name": "python",
   "nbconvert_exporter": "python",
   "pygments_lexer": "ipython3",
   "version": "3.6.4"
  }
 },
 "nbformat": 4,
 "nbformat_minor": 2
}
